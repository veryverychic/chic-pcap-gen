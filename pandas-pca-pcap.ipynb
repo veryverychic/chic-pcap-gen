{
 "cells": [
  {
   "cell_type": "code",
   "execution_count": null,
   "id": "7497a1b0",
   "metadata": {},
   "outputs": [],
   "source": [
    "from scapy.all import *\n",
    "import numpy as np\n",
    "import pandas as pd"
   ]
  },
  {
   "cell_type": "code",
   "execution_count": null,
   "id": "74166c42",
   "metadata": {},
   "outputs": [],
   "source": [
    "def pcap2csv(packets:PacketList, file_name:str):\n",
    "    with open(file_name, 'w') as writer:\n",
    "        writer.write(\"src,dst,type,IP.version,IP.ihl,IP.tos,IPlen,IP.id,IP.flags,IP.frag,IP.ttl,IP.proto,IP.chksum,IP.src,IP.dst,UDP.sport,UDP.dport,UDP.len,UDP.chksum\\n\")\n",
    "        for p in packets:\n",
    "            if p.haslayer('UDP'):\n",
    "                writer.write( p.sprintf(\"%src%,%dst%,%type%,%IP.version%,%IP.ihl%,%IP.tos%,%IP.len%,%IP.id%,%IP.flags%,%IP.frag%,%IP.ttl%,%IP.proto%,%IP.chksum%,%IP.src%,%IP.dst%,%UDP.sport%,%UDP.dport%,%UDP.len%,%UDP.chksum%\\n\") )\n"
   ]
  },
  {
   "cell_type": "code",
   "execution_count": null,
   "id": "2ece7a96",
   "metadata": {},
   "outputs": [],
   "source": [
    "# packets = rdpcap('data/demo.pcapng')\n",
    "packets = rdpcap('data/leshan-6000.pcap')\n",
    "print(\"# packets:\", len(packets))"
   ]
  },
  {
   "cell_type": "code",
   "execution_count": null,
   "id": "e0fa825a",
   "metadata": {},
   "outputs": [],
   "source": [
    "pcap2csv( packets, 'data/demo.csv')"
   ]
  },
  {
   "cell_type": "code",
   "execution_count": null,
   "id": "b1ff6e27",
   "metadata": {},
   "outputs": [],
   "source": [
    "df = pd.read_csv( 'data/demo.csv')\n",
    "print(\"# UDP packets\", len(df))\n",
    "df"
   ]
  },
  {
   "cell_type": "markdown",
   "id": "a4ffc684",
   "metadata": {},
   "source": [
    "### handle hexadecimal values\n",
    "So as to plot distributions and process distances we want properties like chksum to be cnverted to integers.\n",
    "Several possibilities : read_cvs converters or datafame apply. Can be lambda or define function..."
   ]
  },
  {
   "cell_type": "code",
   "execution_count": null,
   "id": "980f1604",
   "metadata": {},
   "outputs": [],
   "source": [
    "\n",
    "def hex_int(x):\n",
    "    return int(x, 16)\n",
    "df = pd.read_csv( 'data/demo.csv', converters={\"IP.chksum\": hex_int, \"UDP.chksum\": hex_int})\n",
    "df"
   ]
  },
  {
   "cell_type": "code",
   "execution_count": null,
   "id": "93aed599",
   "metadata": {},
   "outputs": [],
   "source": [
    "df.dtypes"
   ]
  },
  {
   "cell_type": "markdown",
   "id": "c3d2a6fd",
   "metadata": {},
   "source": [
    "## Histograms"
   ]
  },
  {
   "cell_type": "code",
   "execution_count": null,
   "id": "e04b3caf",
   "metadata": {},
   "outputs": [],
   "source": [
    "df['UDP.len'].plot.hist(bins=50)"
   ]
  },
  {
   "cell_type": "code",
   "execution_count": null,
   "id": "744f8732",
   "metadata": {},
   "outputs": [],
   "source": [
    "df['IP.chksum'].plot.hist(bins=100)"
   ]
  },
  {
   "cell_type": "code",
   "execution_count": null,
   "id": "598794ff",
   "metadata": {},
   "outputs": [],
   "source": [
    "print(\"As expected checksum has more or less a uniform distribution... Seems to be less true as for UDP checksum.\")\n",
    "df['UDP.chksum'].plot.hist(bins=100)"
   ]
  },
  {
   "cell_type": "code",
   "execution_count": null,
   "id": "8915b14f",
   "metadata": {},
   "outputs": [],
   "source": [
    "df['IP.id'].plot.hist(bins=10)"
   ]
  },
  {
   "cell_type": "code",
   "execution_count": null,
   "id": "6e858fd4",
   "metadata": {},
   "outputs": [],
   "source": [
    "df.describe()"
   ]
  },
  {
   "cell_type": "code",
   "execution_count": null,
   "id": "20c8e37e",
   "metadata": {},
   "outputs": [],
   "source": [
    "df.to_csv('demo-int.csv')"
   ]
  },
  {
   "cell_type": "code",
   "execution_count": null,
   "id": "ccf3f99c",
   "metadata": {},
   "outputs": [],
   "source": [
    "import seaborn as sns\n",
    "sns.distplot(df['UDP.len'])"
   ]
  },
  {
   "cell_type": "markdown",
   "id": "c7fe8d6d",
   "metadata": {},
   "source": [
    "## Pincipal Component Analysis\n",
    "Simple usage of sklearn PCA support"
   ]
  },
  {
   "cell_type": "code",
   "execution_count": null,
   "id": "a7496930",
   "metadata": {},
   "outputs": [],
   "source": [
    "from sklearn.preprocessing import StandardScaler\n",
    "scaler = StandardScaler()"
   ]
  },
  {
   "cell_type": "code",
   "execution_count": null,
   "id": "06a5a1ed",
   "metadata": {},
   "outputs": [],
   "source": [
    "df_numeric = df[ ['IP.version', 'IP.ihl', 'IPlen', 'IP.id', 'IP.frag', 'IP.ttl', 'IP.chksum', 'UDP.sport', 'UDP.dport', 'UDP.len', 'UDP.chksum'] ]\n",
    "print(df_numeric.shape)\n",
    "df_numeric"
   ]
  },
  {
   "cell_type": "code",
   "execution_count": null,
   "id": "98900394",
   "metadata": {},
   "outputs": [],
   "source": [
    "X=df_numeric.values"
   ]
  },
  {
   "cell_type": "code",
   "execution_count": null,
   "id": "ef283416",
   "metadata": {},
   "outputs": [],
   "source": [
    "scaler.fit(X)"
   ]
  },
  {
   "cell_type": "code",
   "execution_count": null,
   "id": "bbc0be9e",
   "metadata": {},
   "outputs": [],
   "source": [
    "X_scaled=scaler.transform(X)"
   ]
  },
  {
   "cell_type": "code",
   "execution_count": null,
   "id": "ebddf3c2",
   "metadata": {},
   "outputs": [],
   "source": [
    "from sklearn.decomposition import PCA\n",
    "pca_4 = PCA(n_components=4)\n",
    "pca_4.fit(X_scaled)\n",
    "print(\"variance explained by 4 principal components:\", sum(pca_4.explained_variance_ratio_ * 100))"
   ]
  },
  {
   "cell_type": "code",
   "execution_count": null,
   "id": "7a0d3268",
   "metadata": {},
   "outputs": [],
   "source": [
    "pca_5 = PCA(n_components=5)\n",
    "pca_5.fit(X_scaled)\n",
    "print(\"variance explained by 5 principal components:\", sum(pca_5.explained_variance_ratio_ * 100))"
   ]
  },
  {
   "cell_type": "code",
   "execution_count": null,
   "id": "d781a069",
   "metadata": {},
   "outputs": [],
   "source": [
    "sns.pairplot(df, vars=['IPlen', 'UDP.len'])"
   ]
  },
  {
   "cell_type": "code",
   "execution_count": null,
   "id": "f1a5bd16",
   "metadata": {},
   "outputs": [],
   "source": [
    "sns.pairplot(df, vars=['IPlen', 'IP.id'])"
   ]
  },
  {
   "cell_type": "code",
   "execution_count": null,
   "id": "fcfb5442",
   "metadata": {},
   "outputs": [],
   "source": []
  }
 ],
 "metadata": {
  "kernelspec": {
   "display_name": "Python 3 (ipykernel)",
   "language": "python",
   "name": "python3"
  },
  "language_info": {
   "codemirror_mode": {
    "name": "ipython",
    "version": 3
   },
   "file_extension": ".py",
   "mimetype": "text/x-python",
   "name": "python",
   "nbconvert_exporter": "python",
   "pygments_lexer": "ipython3",
   "version": "3.9.12"
  }
 },
 "nbformat": 4,
 "nbformat_minor": 5
}
