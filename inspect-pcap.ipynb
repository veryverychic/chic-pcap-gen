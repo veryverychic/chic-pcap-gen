{
 "cells": [
  {
   "cell_type": "code",
   "execution_count": null,
   "id": "549dc708",
   "metadata": {},
   "outputs": [],
   "source": [
    "from scapy.all import *"
   ]
  },
  {
   "cell_type": "code",
   "execution_count": null,
   "id": "8e98f8c9",
   "metadata": {},
   "outputs": [],
   "source": [
    "packets = rdpcap('data/demo.pcapng')"
   ]
  },
  {
   "cell_type": "code",
   "execution_count": null,
   "id": "92d0d92c",
   "metadata": {},
   "outputs": [],
   "source": [
    "print(\"# of paquests:\", len(packets))\n",
    "packets.show()"
   ]
  },
  {
   "cell_type": "code",
   "execution_count": null,
   "id": "d37dd15f",
   "metadata": {},
   "outputs": [],
   "source": [
    "p0 = packets[0]"
   ]
  },
  {
   "cell_type": "code",
   "execution_count": null,
   "id": "d3547582",
   "metadata": {},
   "outputs": [],
   "source": [
    "p0.summary()"
   ]
  },
  {
   "cell_type": "code",
   "execution_count": null,
   "id": "572c1441",
   "metadata": {},
   "outputs": [],
   "source": [
    "p0"
   ]
  },
  {
   "cell_type": "code",
   "execution_count": null,
   "id": "9826792c",
   "metadata": {},
   "outputs": [],
   "source": [
    "p0.show()\n"
   ]
  },
  {
   "cell_type": "markdown",
   "id": "693a3fa7",
   "metadata": {},
   "source": [
    "### Graphical dump with PostScript/PDF dump of a packet \n"
   ]
  },
  {
   "cell_type": "code",
   "execution_count": null,
   "id": "71b90c0a",
   "metadata": {},
   "outputs": [],
   "source": [
    "p0.pdfdump(layer_shift=1)"
   ]
  },
  {
   "cell_type": "code",
   "execution_count": null,
   "id": "961663f4",
   "metadata": {},
   "outputs": [],
   "source": [
    "print(p0.chksum)"
   ]
  },
  {
   "cell_type": "code",
   "execution_count": null,
   "id": "319ae482",
   "metadata": {},
   "outputs": [],
   "source": [
    "print(\"traversing a paquet list, displaying some properties...\")\n",
    "for p in packets:\n",
    "    print(p.id, p.proto, p.chksum)"
   ]
  },
  {
   "cell_type": "code",
   "execution_count": null,
   "id": "c3c3808e",
   "metadata": {},
   "outputs": [],
   "source": []
  },
  {
   "cell_type": "code",
   "execution_count": null,
   "id": "006e35c0",
   "metadata": {},
   "outputs": [],
   "source": [
    "print(\"filtering out the packets that are not UDP...\")\n",
    "for p in packets:\n",
    "    if not p.haslayer(UDP):\n",
    "        print(p.summary())"
   ]
  },
  {
   "cell_type": "code",
   "execution_count": null,
   "id": "552a137b",
   "metadata": {
    "scrolled": true
   },
   "outputs": [],
   "source": [
    "print(\"layers...\")\n",
    "ip0=p0.payload\n",
    "print(ip0.summary())\n",
    "print(ip0.show())"
   ]
  },
  {
   "cell_type": "code",
   "execution_count": null,
   "id": "69a0a946",
   "metadata": {},
   "outputs": [],
   "source": [
    "udp0 = p0.payload.payload\n",
    "udp0"
   ]
  },
  {
   "cell_type": "markdown",
   "id": "c6490d55",
   "metadata": {},
   "source": [
    "## Scapy sprintf\n",
    "Simple formating with \"%property%\"..."
   ]
  },
  {
   "cell_type": "code",
   "execution_count": null,
   "id": "c8166f9e",
   "metadata": {},
   "outputs": [],
   "source": [
    "p0.sprintf(\"Ethernet destination: %dst%. IP destination: %IP.dst%. UDP source port: %UDP.sport%\")"
   ]
  },
  {
   "cell_type": "code",
   "execution_count": null,
   "id": "eeb12d4e",
   "metadata": {},
   "outputs": [],
   "source": []
  }
 ],
 "metadata": {
  "kernelspec": {
   "display_name": "Python 3 (ipykernel)",
   "language": "python",
   "name": "python3"
  },
  "language_info": {
   "codemirror_mode": {
    "name": "ipython",
    "version": 3
   },
   "file_extension": ".py",
   "mimetype": "text/x-python",
   "name": "python",
   "nbconvert_exporter": "python",
   "pygments_lexer": "ipython3",
   "version": "3.9.12"
  }
 },
 "nbformat": 4,
 "nbformat_minor": 5
}
